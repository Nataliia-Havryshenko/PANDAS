{
  "cells": [
    {
      "cell_type": "markdown",
      "metadata": {
        "ExecuteTime": {
          "end_time": "2022-12-10T17:43:42.137588Z",
          "start_time": "2022-12-10T17:43:42.124712Z"
        },
        "id": "f41183ed"
      },
      "source": [
        "## Аналіз A/B-тестів\n",
        "\n",
        "Ви - аналітик даних в ІТ-компанії і до вас надійшла задача проаналізувати дані A/B тесту в популярній [грі Cookie Cats](https://www.facebook.com/cookiecatsgame). Це - гра-головоломка в стилі «з’єднай три», де гравець повинен з’єднати плитки одного кольору, щоб очистити дошку та виграти рівень. На дошці також зображені співаючі котики :)\n",
        "\n",
        "Під час проходження гри гравці стикаються з воротами, які змушують їх чекати деякий час, перш ніж вони зможуть прогресувати або зробити покупку в додатку.\n",
        "\n",
        "У цьому блоці завдань ми проаналізуємо результати A/B тесту, коли перші ворота в Cookie Cats було переміщено з рівня 30 на рівень 40. Зокрема, ми хочемо зрозуміти, як це вплинуло на утримання (retention) гравців. Тобто хочемо зрозуміти, чи переміщення воріт на 10 рівнів пізніше якимось чином вплинуло на те, що користувачі перестають грати в гру раніше чи пізніше з точки зору кількості їх днів з моменту встановлення гри.\n",
        "\n",
        "Будемо працювати з даними з файлу `cookie_cats.csv`. Колонки в даних наступні:\n",
        "\n",
        "- `userid` - унікальний номер, який ідентифікує кожного гравця.\n",
        "- `version` - чи потрапив гравець в контрольну групу (gate_30 - ворота на 30 рівні) чи тестову групу (gate_40 - ворота на 40 рівні).\n",
        "- `sum_gamerounds` - кількість ігрових раундів, зіграних гравцем протягом першого тижня після встановлення\n",
        "- `retention_1` - чи через 1 день після встановлення гравець повернувся і почав грати?\n",
        "- `retention_7` - чи через 7 днів після встановлення гравець повернувся і почав грати?\n",
        "\n",
        "Коли гравець встановлював гру, його випадковим чином призначали до групи gate_30 або gate_40."
      ]
    },
    {
      "cell_type": "code",
      "execution_count": 5,
      "metadata": {},
      "outputs": [],
      "source": [
        "import pandas as pd\n",
        "\n",
        "df = pd.read_csv(r\"D:\\моё обучение аналитика\\аналітика даних\\М15\\statistical_hypothesis\\cookie_cats.csv\")"
      ]
    },
    {
      "cell_type": "markdown",
      "metadata": {
        "id": "XKhHA3eiueo0"
      },
      "source": [
        "1. Для початку, уявімо, що ми тільки плануємо проведення зазначеного А/B-тесту і хочемо зрозуміти, дані про скількох користувачів нам треба зібрати, аби досягнути відчутного ефекту. Відчутним ефектом ми вважатимемо збільшення утримання на 1% після внесення зміни. Обчисліть, скільки користувачів сумарно нам треба аби досягнути такого ефекту, якщо продакт менеджер нам повідомив, що базове утримання є 19%."
      ]
    },
    {
      "cell_type": "code",
      "execution_count": 6,
      "metadata": {},
      "outputs": [
        {
          "name": "stdout",
          "output_type": "stream",
          "text": [
            "Необхідний розмір вибірки: 24637 на групу (~49274 сумарно)\n"
          ]
        }
      ],
      "source": [
        "import statsmodels.stats.api as sms\n",
        "\n",
        "def sample_size_proportions(p1, p2, alpha=0.05, power=0.8):\n",
        "    \"\"\"\n",
        "    Обчислює необхідний розмір вибірки для A/B тесту з бінарною метрикою.\n",
        "    \n",
        "    p1 - базова конверсія (наприклад 0.19)\n",
        "    p2 - очікувана конверсія (наприклад 0.20)\n",
        "    alpha - рівень значущості (за замовчуванням 0.05)\n",
        "    power - потужність тесту (за замовчуванням 0.8)\n",
        "    \"\"\"\n",
        "    effect_size = sms.proportion_effectsize(p1, p2)  # ефект Коена h\n",
        "    required_n = sms.NormalIndPower().solve_power(\n",
        "        effect_size=effect_size,\n",
        "        alpha=alpha,\n",
        "        power=power,\n",
        "        alternative='two-sided'\n",
        "    )\n",
        "    return int(required_n)\n",
        "\n",
        "# приклад для retention 19% -> 20%\n",
        "p1 = 0.19\n",
        "p2 = 0.20\n",
        "alpha = 0.05\n",
        "power = 0.8\n",
        "\n",
        "n_per_group = sample_size_proportions(p1, p2, alpha, power)\n",
        "print(f\"Необхідний розмір вибірки: {n_per_group} на групу (~{n_per_group*2} сумарно)\")"
      ]
    },
    {
      "cell_type": "markdown",
      "metadata": {
        "id": "22f03df4"
      },
      "source": [
        "2. Зчитайте дані АВ тесту у змінну `df` та виведіть середнє значення показника показник `retention_7` (утримання на 7 день) по версіям гри. Сформулюйте гіпотезу: яка версія дає краще утримання через 7 днів після встановлення гри?"
      ]
    },
    {
      "cell_type": "code",
      "execution_count": 7,
      "metadata": {
        "id": "MVzMTs-jh22b"
      },
      "outputs": [
        {
          "name": "stdout",
          "output_type": "stream",
          "text": [
            "version\n",
            "gate_30    0.190201\n",
            "gate_40    0.182000\n",
            "Name: retention_7, dtype: float64\n"
          ]
        }
      ],
      "source": [
        "# середнє retention_7 по версіях\n",
        "retention_7_means = df.groupby(\"version\")[\"retention_7\"].mean()\n",
        "print(retention_7_means)"
      ]
    },
    {
      "cell_type": "markdown",
      "metadata": {},
      "source": [
        "H₀ (нульова): Рівень утримання на 7-й день однаковий у групах gate_30 і gate_40.\n",
        "H₁ (альтернативна): Є відмінність. Якщо беремо направлену гіпотезу → gate_30 має вище утримання, ніж gate_40."
      ]
    },
    {
      "cell_type": "markdown",
      "metadata": {
        "id": "74e9c6ca"
      },
      "source": [
        "3. Перевірте з допомогою пасуючого варіанту z-тесту, чи дає якась з версій гри кращий показник `retention_7` на рівні значущості 0.05. Обчисліть також довірчі інтервали для варіантів до переміщення воріт і після. Виведіть результат у форматі:\n",
        "\n",
        "    ```\n",
        "    z statistic: ...\n",
        "    p-value: ...\n",
        "    Довірчий інтервал 95% для групи control: [..., ...]\n",
        "    Довірчий інтервал 95% для групи treatment: [..., ...]\n",
        "    ```\n",
        "\n",
        "    де замість `...` - обчислені значення.\n",
        "    \n",
        "    В якості висновку дайте відповідь на два питання:  \n",
        "\n",
        "      1. Чи є статистична значущою різниця між поведінкою користувачів у різних версіях гри?   \n",
        "      2. Чи перетинаються довірчі інтервали утримання користувачів з різних версій гри? Про що це каже?  \n"
      ]
    },
    {
      "cell_type": "code",
      "execution_count": 12,
      "metadata": {
        "id": "kXQE4gyjh5MS"
      },
      "outputs": [
        {
          "name": "stdout",
          "output_type": "stream",
          "text": [
            "z statistic: 3.164\n",
            "p-value: 0.002\n",
            "Довірчий інтервал 95% для групи control: [0.187, 0.194]\n",
            "Довірчий інтервал 95% для групи treatment: [0.178, 0.186]\n"
          ]
        }
      ],
      "source": [
        "import statsmodels.api as sm\n",
        "import numpy as np\n",
        "\n",
        "# кількість успіхів (гравців, що повернулись)\n",
        "success_control = df[df.version==\"gate_30\"][\"retention_7\"].sum()\n",
        "success_treatment = df[df.version==\"gate_40\"][\"retention_7\"].sum()\n",
        "\n",
        "# розмір груп\n",
        "n_control = df[df.version==\"gate_30\"].shape[0]\n",
        "n_treatment = df[df.version==\"gate_40\"].shape[0]\n",
        "\n",
        "# Z-тест\n",
        "z_stat, p_val = sm.stats.proportions_ztest([success_control, success_treatment],\n",
        "                                           [n_control, n_treatment])\n",
        "\n",
        "confint_control = sm.stats.proportion_confint(success_control, n_control, alpha=0.05, method='normal')\n",
        "confint_treatment = sm.stats.proportion_confint(success_treatment, n_treatment, alpha=0.05, method='normal')\n",
        "\n",
        "print(f\"z statistic: {z_stat:.3f}\")\n",
        "print(f\"p-value: {p_val:.3f}\")\n",
        "print(f\"Довірчий інтервал 95% для групи control: [{confint_control[0]:.3f}, {confint_control[1]:.3f}]\")\n",
        "print(f\"Довірчий інтервал 95% для групи treatment: [{confint_treatment[0]:.3f}, {confint_treatment[1]:.3f}]\")\n"
      ]
    },
    {
      "cell_type": "markdown",
      "metadata": {},
      "source": [
        "Статистична значущість\n",
        "\n",
        "p-value = 0.002 < 0.05 → відхиляємо H₀.\n",
        "\n",
        "Є значуща різниця між gate_30 і gate_40.\n",
        "\n",
        "Довірчі інтервали\n",
        "\n",
        "control (gate_30): [18.7%, 19.4%]\n",
        "\n",
        "treatment (gate_40): [17.8%, 18.6%]\n",
        "\n",
        "Інтервали не перетинаються, отже різниця стабільна, не випадкова.\n",
        "\n",
        "Висновок\n",
        "\n",
        "Версія з gate_30 дає краще утримання на 7-й день.\n",
        "\n",
        "Перенесення gate_40  погіршило метрику retention."
      ]
    },
    {
      "cell_type": "markdown",
      "metadata": {
        "ExecuteTime": {
          "end_time": "2022-12-10T20:50:10.709766Z",
          "start_time": "2022-12-10T20:50:10.639999Z"
        },
        "id": "076cd867"
      },
      "source": [
        "4. Виконайте тест Хі-квадрат на рівні значущості 5% аби визначити, чи є залежність між версією гри та утриманням гравця на 7ий день після реєстрації.\n",
        "\n",
        "    - Напишіть, як для цього тесту будуть сформульовані гіпотези.\n",
        "    - Проведіть обчислення, виведіть p-значення і напишіть висновок за результатами тесту.\n"
      ]
    },
    {
      "cell_type": "code",
      "execution_count": 13,
      "metadata": {
        "id": "kcwD-91Fh84n"
      },
      "outputs": [
        {
          "name": "stdout",
          "output_type": "stream",
          "text": [
            "retention_7  False  True \n",
            "version                  \n",
            "gate_30      36198   8502\n",
            "gate_40      37210   8279\n",
            "Chi2 statistic: 9.959\n",
            "p-value: 0.002\n",
            "Degrees of freedom: 1\n"
          ]
        }
      ],
      "source": [
        "import pandas as pd\n",
        "from scipy.stats import chi2_contingency\n",
        "\n",
        "# створюємо таблицю спряженості (contingency table)\n",
        "contingency = pd.crosstab(df[\"version\"], df[\"retention_7\"])\n",
        "print(contingency)\n",
        "\n",
        "# χ²-тест\n",
        "chi2, p_val, dof, expected = chi2_contingency(contingency)\n",
        "\n",
        "print(f\"Chi2 statistic: {chi2:.3f}\")\n",
        "print(f\"p-value: {p_val:.3f}\")\n",
        "print(f\"Degrees of freedom: {dof}\")\n"
      ]
    },
    {
      "cell_type": "markdown",
      "metadata": {},
      "source": [
        "Гіпотези\n",
        "\n",
        "H₀: Версія гри (gate_30 vs gate_40) не впливає на утримання гравців на 7-й день → змінні незалежні.\n",
        "\n",
        "H₁: Версія гри впливає на утримання гравців на 7-й день → змінні залежні.\n",
        "\n",
        "Оскільки p-value = 0.002 < 0.05, ми відхиляємо H₀.\n",
        "Це означає, що існує статистично значуща залежність між версією гри та ймовірністю утримання гравця на 7-й день.\n"
      ]
    }
  ],
  "metadata": {
    "colab": {
      "provenance": []
    },
    "kernelspec": {
      "display_name": "Python 3",
      "name": "python3"
    },
    "language_info": {
      "codemirror_mode": {
        "name": "ipython",
        "version": 3
      },
      "file_extension": ".py",
      "mimetype": "text/x-python",
      "name": "python",
      "nbconvert_exporter": "python",
      "pygments_lexer": "ipython3",
      "version": "3.13.4"
    }
  },
  "nbformat": 4,
  "nbformat_minor": 0
}
