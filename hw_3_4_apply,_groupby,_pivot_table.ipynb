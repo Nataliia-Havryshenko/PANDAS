{
  "cells": [
    {
      "cell_type": "markdown",
      "metadata": {
        "id": "LwNpAFw_eTF3"
      },
      "source": [
        "#Домашнє завдання до тем apply(), groupby(), pivot_table()"
      ]
    },
    {
      "cell_type": "markdown",
      "metadata": {
        "id": "vP2PEJyq8Yrj"
      },
      "source": [
        "В цьому домашньому завданні продовжуємо працювати з набором даних `supermarket_sales.csv`."
      ]
    },
    {
      "cell_type": "markdown",
      "metadata": {
        "id": "dh9lfpDb8gBL"
      },
      "source": [
        "0. Імпортуйте бібліотеку pandas та зчитайте дані у змінну `df` типу `pandas.DataFrame`."
      ]
    },
    {
      "cell_type": "code",
      "execution_count": 1,
      "metadata": {
        "id": "xBI9gJMK8qnl"
      },
      "outputs": [],
      "source": [
        "import pandas as pd"
      ]
    },
    {
      "cell_type": "code",
      "execution_count": 32,
      "metadata": {},
      "outputs": [
        {
          "data": {
            "text/plain": [
              "pandas.core.frame.DataFrame"
            ]
          },
          "execution_count": 32,
          "metadata": {},
          "output_type": "execute_result"
        }
      ],
      "source": [
        "data_path = '../data/supermarket_sales.csv'\n",
        "df = pd.read_csv(data_path)\n",
        "df.columns = df.columns.str.strip()\n",
        "type(df)"
      ]
    },
    {
      "cell_type": "markdown",
      "metadata": {
        "id": "28638363"
      },
      "source": [
        "1. Дослідимо, який філіал супермаркету ('Branch') є найприбутковішим. Для цього знайдіть сумарний прибуток за кожним філіалом і виявіть, який філіал має найвищий."
      ]
    },
    {
      "cell_type": "code",
      "execution_count": 6,
      "metadata": {
        "ExecuteTime": {
          "end_time": "2022-11-01T17:27:42.023877Z",
          "start_time": "2022-11-01T17:27:42.020277Z"
        },
        "id": "916d731d"
      },
      "outputs": [
        {
          "name": "stdout",
          "output_type": "stream",
          "text": [
            "Branch\n",
            "A    5057.1605\n",
            "B    5057.0320\n",
            "C    5265.1765\n",
            "Name: gross income, dtype: float64\n",
            "\n",
            "most_profitable_branch: C with_profit 5265.18\n"
          ]
        }
      ],
      "source": [
        "branch_profit = df.groupby('Branch')['gross income'].sum()\n",
        "\n",
        "print(branch_profit)\n",
        "\n",
        "most_profitable_branch = branch_profit.idxmax()\n",
        "max_profit = branch_profit.max()\n",
        "\n",
        "print(f\"\\nmost_profitable_branch: {most_profitable_branch} with_profit {max_profit:.2f}\")"
      ]
    },
    {
      "cell_type": "markdown",
      "metadata": {
        "id": "2qL_OddUCZKK"
      },
      "source": [
        "2. В якому місті знайходиться філіал з найвищим прибутком? Може в тому місці нам розмітисти ще один магазин.  \n",
        "Знайдіть відповідь за допомогою функціоналу Pandas."
      ]
    },
    {
      "cell_type": "code",
      "execution_count": 11,
      "metadata": {
        "id": "bBJUc1dWCwdi"
      },
      "outputs": [
        {
          "name": "stdout",
          "output_type": "stream",
          "text": [
            "most_profitable_branch : C\n",
            "city: ['Naypyitaw']\n"
          ]
        }
      ],
      "source": [
        "branch_profit = df.groupby('Branch')['gross income'].sum()\n",
        "\n",
        "most_profitable_branch = branch_profit.idxmax()\n",
        "\n",
        "city_for_branch = df.loc[df['Branch'] == most_profitable_branch, 'City'].unique()\n",
        "\n",
        "print(f\"most_profitable_branch : {most_profitable_branch}\")\n",
        "print(f\"city: {city_for_branch}\")"
      ]
    },
    {
      "cell_type": "markdown",
      "metadata": {
        "id": "6dec795f"
      },
      "source": [
        "3.1. Створіть зводну таблицю, яка покаже, скільки покупок (інвойсів) було зроблено в кожній з філій (`Branch`) за різними категоріями товарів. Запишіть таблицю в змінну `invoices_by_category` і виведіть змінну на екран.\n",
        "Ця таблиця допоможе проаналізувати, в якій філії купують найбільше товарів кожної з категорій."
      ]
    },
    {
      "cell_type": "code",
      "execution_count": 84,
      "metadata": {
        "id": "N7TfUBf4ZrkX"
      },
      "outputs": [
        {
          "name": "stdout",
          "output_type": "stream",
          "text": [
            "Product line  Electronic accessories  Fashion accessories  Food and beverages  Health and beauty  Home and lifestyle  Sports and travel\n",
            "Branch                                                                                                                                 \n",
            "A                                 60                   51                  58                 47                  65                 59\n",
            "B                                 55                   62                  50                 53                  50                 62\n",
            "C                                 55                   65                  66                 52                  45                 45\n"
          ]
        }
      ],
      "source": [
        "invoices_by_category = df.pivot_table(index='Branch', columns='Product line', values='Invoice ID', aggfunc='count' )\n",
        "pd.set_option('display.max_columns', None)\n",
        "pd.set_option('display.width', 1000) \n",
        "print(invoices_by_category)"
      ]
    },
    {
      "cell_type": "markdown",
      "metadata": {
        "ExecuteTime": {
          "end_time": "2022-11-01T16:50:46.961201Z",
          "start_time": "2022-11-01T16:50:46.955894Z"
        },
        "id": "f5bbfa34"
      },
      "source": [
        "Очікуваний результат:"
      ]
    },
    {
      "cell_type": "markdown",
      "metadata": {
        "id": "34b9bcdc"
      },
      "source": [
        "![](https://drive.google.com/uc?export=view&id=1rueAdko6S3UxIHGtojetTxlES-EyM6Yb)"
      ]
    },
    {
      "cell_type": "markdown",
      "metadata": {
        "id": "woygDEA0OSwJ"
      },
      "source": [
        "3.2. Викристовуючи змінну `invoices_by_category` дайте відповідь програмно (тобто значення треба не просто знайти очима, а вивести за допомогою коду), в якому філіалі магазину (`Branch`) найбільше інвойсів із покупкою товарів категорії \"Електронні аксесуари\" (`Electronic accessories`)?\n"
      ]
    },
    {
      "cell_type": "code",
      "execution_count": 22,
      "metadata": {
        "id": "B5x8kTE-Qcq8"
      },
      "outputs": [
        {
          "name": "stdout",
          "output_type": "stream",
          "text": [
            "max_invoice_branch': A (60 invoices)\n"
          ]
        }
      ],
      "source": [
        "max_branch = invoices_by_category['Electronic accessories'].idxmax()\n",
        "max_value = invoices_by_category['Electronic accessories'].max()\n",
        "\n",
        "print(f\"max_invoice_branch': {max_branch} ({max_value} invoices)\")"
      ]
    },
    {
      "cell_type": "markdown",
      "metadata": {
        "ExecuteTime": {
          "end_time": "2022-11-01T17:56:02.981755Z",
          "start_time": "2022-11-01T17:56:02.977086Z"
        },
        "id": "d005a2b8"
      },
      "source": [
        "4-6. **Творче завдання на розвиток аналітичного мислення**\n",
        "\n",
        "Крок 1. Сформулюйте ТРИ питання (гіпотези) до наявних даних, які допомогли б вам зрозуміти, які користувачі що, де та коли найбільше/найменше купують, аби дати на основі цих гіпотез рекомендації бізнесу. Звісно питання мають бути не тими, на які ми вже відповіли в завданнях модулю.\n",
        "\n",
        "Крок 2. Знайдіть відповіді на свої питання з допомогою функціоналу pandas.\n",
        "\n",
        "Крок 3. Напишіть, як відповідь на це питання може бути використана для прийняття бізнес рішень.   \n",
        "   \n",
        " Питання можуть бути будь-якої складності, але їх має бути 3. Кожне питання оцінюється як 1 завдання. Без виконання цього завдання ДЗ не приймається. Якщо є питання щодо виконання - пишіть у чат 🙌\n"
      ]
    },
    {
      "cell_type": "markdown",
      "metadata": {},
      "source": [
        "Гіпотеза 1. \n",
        "В яких категоріях та філіях спостерігається найбільший валовий дохід? Чи є категорії, які приносять низький валовий дохід, але мають високі продажі?\n",
        "Мета: Для оптимізації асортименту і планування інвестицій — фокусуватися на прибуткових категоріях і покращувати низькоприбуткові."
      ]
    },
    {
      "cell_type": "code",
      "execution_count": 72,
      "metadata": {},
      "outputs": [
        {
          "name": "stdout",
          "output_type": "stream",
          "text": [
            "Валовий дохід за філіями та категоріями:\n",
            "Product line  Electronic accessories  Fashion accessories  Food and beverages  Health and beauty  Home and lifestyle  Sports and travel       Total\n",
            "Branch                                                                                                                                             \n",
            "A                           872.2435             777.7385            817.2905            599.893           1067.4855           922.5095   5057.1605\n",
            "B                           811.9735             781.5865            724.5185            951.460            835.6745           951.8190   5057.0320\n",
            "C                           903.2845            1026.6700           1131.7550            791.206            661.6930           750.5680   5265.1765\n",
            "Total                      2587.5015            2585.9950           2673.5640           2342.559           2564.8530          2624.8965  15379.3690\n"
          ]
        }
      ],
      "source": [
        "gross_income_by_category_branch = df.groupby(['Branch', 'Product line'])['gross income'].sum().unstack()\n",
        "pd.set_option('display.max_columns', None)\n",
        "pd.set_option('display.width', 1000) \n",
        "gross_income_by_category_branch['Total'] = gross_income_by_category_branch.sum(axis=1)\n",
        "gross_income_by_category_branch.loc['Total'] = gross_income_by_category_branch.sum(axis=0)\n",
        "\n",
        "\n",
        "print(\"Валовий дохід за філіями та категоріями:\")\n",
        "print(gross_income_by_category_branch)\n"
      ]
    },
    {
      "cell_type": "code",
      "execution_count": 69,
      "metadata": {},
      "outputs": [
        {
          "name": "stdout",
          "output_type": "stream",
          "text": [
            "                               Gross Income  Sales Count  Income per Sale\n",
            "Branch Product line                                                      \n",
            "A      Home and lifestyle         1067.4855           65        16.422854\n",
            "       Sports and travel           922.5095           59        15.635754\n",
            "       Electronic accessories      872.2435           60        14.537392\n",
            "       Food and beverages          817.2905           58        14.091216\n",
            "       Fashion accessories         777.7385           51        15.249775\n",
            "       Health and beauty           599.8930           47        12.763681\n",
            "B      Sports and travel           951.8190           62        15.351919\n",
            "       Health and beauty           951.4600           53        17.952075\n",
            "       Home and lifestyle          835.6745           50        16.713490\n",
            "       Electronic accessories      811.9735           55        14.763155\n",
            "       Fashion accessories         781.5865           62        12.606234\n",
            "       Food and beverages          724.5185           50        14.490370\n",
            "C      Food and beverages         1131.7550           66        17.147803\n",
            "       Fashion accessories        1026.6700           65        15.794923\n",
            "       Electronic accessories      903.2845           55        16.423355\n",
            "       Health and beauty           791.2060           52        15.215500\n",
            "       Sports and travel           750.5680           45        16.679289\n",
            "       Home and lifestyle          661.6930           45        14.704289\n"
          ]
        }
      ],
      "source": [
        "gross_income_by_category = df.groupby(['Branch', 'Product line'])['gross income'].sum()\n",
        "\n",
        "sales_count_by_category = df.groupby(['Branch', 'Product line']).size()\n",
        "summary = pd.DataFrame({\n",
        "    'Gross Income': gross_income_by_category,\n",
        "    'Sales Count': sales_count_by_category\n",
        "})\n",
        "\n",
        "summary['Income per Sale'] = summary['Gross Income'] / summary['Sales Count']\n",
        "summary = summary.sort_values(by=['Branch', 'Gross Income'], ascending=[True, False])\n",
        "\n",
        "print(summary)\n"
      ]
    },
    {
      "cell_type": "markdown",
      "metadata": {},
      "source": [
        "Аналіз\n",
        "Найбільший валовий дохід в Філії С,  Філії А та В мають майже однаковий валовий дохід.\n",
        "Найбільший валовий дохід по категорії має Foods and beverages\n",
        "РОзглянемо окремо Філії та Категорії для формування рекомендацій для бізнесу.\n",
        "\n",
        "1. Де найбільший валовий дохід?\n",
        "\n",
        "Філія A:\n",
        "Home and lifestyle — 1067.49\n",
        "Sports and travel — 922.51\n",
        "\n",
        "Філія B:\n",
        "Sports and travel — 951.82\n",
        "Health and beauty — 951.46\n",
        "Найнижчий дохід на одиницю у категорії B Fashion accessories — 12.61, хоч кількість продажів висока. — 835.67\n",
        "\n",
        "Філія C:\n",
        "Food and beverages — 1131.76 (найвищий валовий дохід серед усіх)\n",
        "Fashion accessories — 1026.67\n",
        "Electronic accessories — 903.28\n",
        "\n",
        "Філії А та В мають схожу структуру по категоріям з найвищим валовим доходом. Можна зробити висновок що дані філії схожа цільова аудиторія покупців.\n",
        "Філія С взагалі в кошику категорій з найвищим валовим доходом має інші продукти\n",
        "\n",
        "2. Проаналізуємо категорії з низьким валовим доходом, але виською кількістю продажів\n",
        "Перевіряємо співвідношення валового доходу і кількості продажів:\n",
        "\n",
        "У філії A Health and beauty — валовий дохід 599.89 (найнижчий у філії), але кількість продажів — 47 (найменша у філії, але не дуже сильно).\n",
        "У філії B Fashion accessories — валовий дохід 781.59 при кількості продажів 62 — доволі багато продажів, але валовий дохід не найвищий.\n",
        "У філії C Sports and travel — валовий дохід 750.57 при продажах лише 45 — низька кількість, але порівняно добрий дохід.\n",
        "\n",
        "3. Аналіз доходу на одиницю продажу (маржинальність)\n",
        "Найвищий дохід на продаж в Філії B = Health and beauty — 17.95, хоча валовий дохід не найвищий. Найнижчий дохід на одиницю в Філії B =  Fashion accessories — 12.61, хоч кількість продажів висока.\n",
        "У філії C Food and beverages — дохід на продаж 17.15 — найвищий валовий дохід і висока маржинальність.  Категорія Home and lifestyle має найнижчу маржинальність, хоча кількість продажів не суттєво нижча інших категорій.\n",
        "У Філії А найвища маржинальність — Home and lifestyle (16.42), і вона ж має найбільший валовий дохід.\n",
        "Health and beauty — має найнижчу маржинальність (12.76) і найменший валовий дохід.\n",
        "\n",
        "РЕКОМЕНДАЦІЇ\n",
        "\n",
        "Фокус на філії C у категорії Food and beverages, оскільки тут найбільший валовий дохід і висока маржинальність.\n",
        "Категорія Health and beauty у філії B має високу маржинальність, хоча загальний валовий дохід можна покращити — варто проаналізувати асортимент, підвищити продажі.\n",
        "Fashion accessories у філії B — багато продажів, але низька маржинальність, можливо потрібно переглянути цінову політику та підвищити ціни, якщо це дозволяє моніторинг ринку та ціни конкурентів\n",
        "У філії A варто підтримувати Home and lifestyle та Sports and travel — вони приносять найбільший дохід.\n",
        "Категорії з нижчим доходом, але стабільними продажами (наприклад, Health and beauty у філії A), варто розглядати для маркетингових кампаній або оновлення асортименту.\n",
        "\n"
      ]
    },
    {
      "cell_type": "markdown",
      "metadata": {},
      "source": [
        "Гіпотеза 2: Взаємозв’язок між кількістю одиниць у покупці (Quantity) та методом оплати (Payment)"
      ]
    },
    {
      "cell_type": "code",
      "execution_count": 75,
      "metadata": {},
      "outputs": [
        {
          "name": "stdout",
          "output_type": "stream",
          "text": [
            "Avr_Quantity_payment:\n",
            "Payment\n",
            "Cash           5.511628\n",
            "Credit card    5.536977\n",
            "Ewallet        5.484058\n",
            "Name: Quantity, dtype: float64\n"
          ]
        }
      ],
      "source": [
        "avg_quantity_by_payment = df.groupby('Payment')['Quantity'].mean()\n",
        "\n",
        "print(\"Avr_Quantity_payment:\")\n",
        "print(avg_quantity_by_payment)\n"
      ]
    },
    {
      "cell_type": "markdown",
      "metadata": {},
      "source": [
        "Метою даного аналізу було виявити, чи існує залежність між методом оплати та кількістю одиниць товару в одному чеку. Зокрема, ми досліджували чи покупці, які обирають певну форму оплати (готівка, кредитна картка чи електронний гаманець), купують більше чи менше товарів у порівнянні з іншими.\n",
        "Результати:\n",
        "Середня кількість товарів у чеку за кожним методом оплати:\n",
        "Кредитна картка: 5.54 одиниці\n",
        "Готівка: 5.51 одиниці\n",
        "Електронний гаманець: 5.48 одиниці\n",
        "Отримані результати показують, що різниця між середніми значеннями не є суттєвою. Усі три методи оплати демонструють дуже схожу поведінку споживачів щодо кількості придбаних товарів.\n",
        "Висновок:\n",
        "Немає статистично або практично значущої різниці в кількості товарів у чеку залежно від методу оплати. Це дозволяє припустити, що вибір форми оплати не впливає на обсяг покупки. Іншими словами, попит на кожен метод оплати є збалансованим і всі вони однаково використовуються незалежно від кількості одиниць товару в чеку."
      ]
    },
    {
      "cell_type": "markdown",
      "metadata": {},
      "source": [
        "Гипотеза 3. Вплив  статі на середній чек  і вибір категорій товарів ."
      ]
    },
    {
      "cell_type": "code",
      "execution_count": 83,
      "metadata": {},
      "outputs": [
        {
          "name": "stdout",
          "output_type": "stream",
          "text": [
            "Avg_total_by_product_line_gender:\n",
            "Product line              Gender          Total\n",
            "Home and lifestyle        Female         380.21\n",
            "Food and beverages        Female         368.57\n",
            "Sports and travel         Female         324.71\n",
            "Electronic accessories    Female         322.64\n",
            "Fashion accessories       Female         317.06\n",
            "Health and beauty         Female         290.02\n",
            "Health and beauty         Male           348.10\n",
            "Sports and travel         Male           340.36\n",
            "Electronic accessories    Male           316.69\n",
            "Home and lifestyle        Male           294.14\n",
            "Fashion accessories       Male           291.08\n",
            "Food and beverages        Male           273.50\n"
          ]
        }
      ],
      "source": [
        "avg_total_by_productline_gender = df.groupby(['Product line', 'Gender'])['Total'].mean().reset_index()\n",
        "\n",
        "sorted_avg = avg_total_by_productline_gender.sort_values(by=['Gender', 'Total'], ascending=[True, False])\n",
        "\n",
        "print(\"Avg_total_by_product_line_gender:\")\n",
        "print(f\"{'Product line':<25} {'Gender':<10} {'Total':>10}\")\n",
        "for _, row in sorted_avg.iterrows():\n",
        "    print(f\"{row['Product line']:<25} {row['Gender']:<10} {row['Total']:>10.2f}\")"
      ]
    },
    {
      "cell_type": "markdown",
      "metadata": {},
      "source": [
        "Аналіз\n",
        "Жінки витрачають більше в кожній категорії товарів, ніж чоловіки:\n",
        "Найбільший середній чек серед жінок — \"Home and lifestyle\" (380.21).\n",
        "Найнижчий — \"Health and beauty\" (290.02).\n",
        "У чоловіків найвищий чек — \"Health and beauty\" (348.10), а найнижчий — \"Food and beverages\" (273.50).\n",
        "Категорія \"Health and beauty\" має цікаву поведінку:\n",
        "У жінок це найменший середній чек, а в чоловіків — найвищий.\n",
        "Це може свідчити про те, що жінки купують частіше, але меншими чеками, тоді як чоловіки — рідше, але дорожчі одиниці (наприклад, парфуми, набори по догляду).\n",
        "Категорія \"Food and beverages\" має найнижчі середні чеки серед чоловіків і другий за величиною серед жінок: можливо, жінки частіше купують їжу для сім’ї та великі об'єми, а чоловіки — для себе (дрібні покупки).\n",
        "Категорії \"Home and lifestyle\" та \"Sports and travel\":\n",
        "У жінок середній чек вищий, особливо помітна різниця в \"Home and lifestyle\"\n",
        "\n",
        "РЕКОМЕНДАЦІЇ ДЛЯ БІЗНЕСУ\n",
        "1. Цільовий маркетинг за статтю\n",
        "Для жінок:\n",
        "Пропонувати акції чи пропозиції у категоріях: Home and lifestyle, Food and beverages, Fashion accessories.\n",
        "Рекламні кампанії з акцентом на домашній комфорт, стиль і гастрономію.\n",
        "\n",
        "Для чоловіків:\n",
        "Фокус на \"Health and beauty\" та \"Sports and travel\".\n",
        "Створити окремі промо на дорогі косметичні/брендові продукти.\n",
        "\n",
        "2. Персоналізація пропозицій\n",
        "Враховувати стать при створенні рекомендацій у мобільному застосунку або email-розсилці з врахуванням витрат по категоріям\n",
        "\n",
        "\n",
        "\n"
      ]
    },
    {
      "cell_type": "markdown",
      "metadata": {},
      "source": []
    }
  ],
  "metadata": {
    "colab": {
      "provenance": []
    },
    "kernelspec": {
      "display_name": "Python 3",
      "name": "python3"
    },
    "language_info": {
      "codemirror_mode": {
        "name": "ipython",
        "version": 3
      },
      "file_extension": ".py",
      "mimetype": "text/x-python",
      "name": "python",
      "nbconvert_exporter": "python",
      "pygments_lexer": "ipython3",
      "version": "3.13.4"
    }
  },
  "nbformat": 4,
  "nbformat_minor": 0
}
