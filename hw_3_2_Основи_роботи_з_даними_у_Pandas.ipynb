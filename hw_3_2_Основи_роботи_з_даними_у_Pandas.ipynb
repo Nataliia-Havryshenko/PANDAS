{
 "cells": [
  {
   "cell_type": "markdown",
   "metadata": {
    "id": "olyuwbpjrmvn"
   },
   "source": [
    "# Домашнє завдання до теми \"Основи роботи з даними у Pandas\""
   ]
  },
  {
   "cell_type": "markdown",
   "metadata": {
    "id": "vP2PEJyq8Yrj"
   },
   "source": [
    "В цьому домашньому завданні продовжуємо працювати з набором даних `supermarket_sales.csv`."
   ]
  },
  {
   "cell_type": "markdown",
   "metadata": {
    "id": "dh9lfpDb8gBL"
   },
   "source": [
    "0. Імпортуйте бібліотеку pandas та зчитайте дані у змінну `df` типу `pandas.DataFrame`."
   ]
  },
  {
   "cell_type": "code",
   "execution_count": 1,
   "metadata": {
    "execution": {
     "iopub.execute_input": "2025-07-06T17:26:02.139214Z",
     "iopub.status.busy": "2025-07-06T17:26:02.139214Z",
     "iopub.status.idle": "2025-07-06T17:26:02.152466Z",
     "shell.execute_reply": "2025-07-06T17:26:02.152466Z",
     "shell.execute_reply.started": "2025-07-06T17:26:02.139214Z"
    },
    "id": "xBI9gJMK8qnl"
   },
   "outputs": [],
   "source": [
    "import pandas as pd"
   ]
  },
  {
   "cell_type": "code",
   "execution_count": 6,
   "metadata": {
    "execution": {
     "iopub.execute_input": "2025-07-06T17:31:50.987244Z",
     "iopub.status.busy": "2025-07-06T17:31:50.987244Z",
     "iopub.status.idle": "2025-07-06T17:31:51.012747Z",
     "shell.execute_reply": "2025-07-06T17:31:51.012747Z",
     "shell.execute_reply.started": "2025-07-06T17:31:50.987244Z"
    }
   },
   "outputs": [
    {
     "data": {
      "text/plain": [
       "pandas.core.frame.DataFrame"
      ]
     },
     "execution_count": 6,
     "metadata": {},
     "output_type": "execute_result"
    }
   ],
   "source": [
    "data_path = '../data/supermarket_sales.csv'\n",
    "df = pd.read_csv(data_path)\n",
    "type(df)\n",
    "            "
   ]
  },
  {
   "cell_type": "code",
   "execution_count": 7,
   "metadata": {
    "execution": {
     "iopub.execute_input": "2025-07-06T18:15:44.084238Z",
     "iopub.status.busy": "2025-07-06T18:15:44.079212Z",
     "iopub.status.idle": "2025-07-06T18:15:44.092176Z",
     "shell.execute_reply": "2025-07-06T18:15:44.090802Z",
     "shell.execute_reply.started": "2025-07-06T18:15:44.084238Z"
    }
   },
   "outputs": [],
   "source": [
    "pd.set_option('display.width', 200)\n",
    "pd.set_option('display.max_columns', None)"
   ]
  },
  {
   "cell_type": "markdown",
   "metadata": {
    "ExecuteTime": {
     "end_time": "2021-09-20T19:44:56.499824Z",
     "start_time": "2021-09-20T19:44:56.496923Z"
    },
    "id": "ca064875"
   },
   "source": [
    "1. За допомогою бібліотеки Pandas виведіть перші 4 і останні 4 записи у наборі даних (це дві окремі команди). Треба саме 4! Не 5."
   ]
  },
  {
   "cell_type": "code",
   "execution_count": 8,
   "metadata": {
    "ExecuteTime": {
     "end_time": "2021-12-08T18:46:42.601691Z",
     "start_time": "2021-12-08T18:46:42.570962Z"
    },
    "execution": {
     "iopub.execute_input": "2025-07-06T18:15:47.872926Z",
     "iopub.status.busy": "2025-07-06T18:15:47.872926Z",
     "iopub.status.idle": "2025-07-06T18:15:47.896728Z",
     "shell.execute_reply": "2025-07-06T18:15:47.894608Z",
     "shell.execute_reply.started": "2025-07-06T18:15:47.872926Z"
    },
    "id": "d095f26b"
   },
   "outputs": [
    {
     "name": "stdout",
     "output_type": "stream",
     "text": [
      "    Invoice ID Branch       City Customer type  Gender            Product line  Unit price  Quantity   Tax 5%     Total       Date   Time      Payment    cogs  gross margin percentage  gross income  \\\n",
      "0  750-67-8428      A     Yangon        Member  Female       Health and beauty       74.69         7  26.1415  548.9715   1/5/2019  13:08      Ewallet  522.83                 4.761905       26.1415   \n",
      "1  226-31-3081      C  Naypyitaw        Normal  Female  Electronic accessories       15.28         5   3.8200   80.2200   3/8/2019  10:29         Cash   76.40                 4.761905        3.8200   \n",
      "2  631-41-3108      A     Yangon        Normal    Male      Home and lifestyle       46.33         7  16.2155  340.5255   3/3/2019  13:23  Credit card  324.31                 4.761905       16.2155   \n",
      "3  123-19-1176      A     Yangon        Member    Male       Health and beauty       58.22         8  23.2880  489.0480  1/27/2019  20:33      Ewallet  465.76                 4.761905       23.2880   \n",
      "\n",
      "   Rating  \n",
      "0     9.1  \n",
      "1     9.6  \n",
      "2     7.4  \n",
      "3     8.4  \n"
     ]
    }
   ],
   "source": [
    "print(df.head(4))"
   ]
  },
  {
   "cell_type": "markdown",
   "metadata": {
    "ExecuteTime": {
     "end_time": "2022-11-01T16:50:46.961201Z",
     "start_time": "2022-11-01T16:50:46.955894Z"
    },
    "id": "3e4c4fb3"
   },
   "source": [
    "Очікуваний результат:"
   ]
  },
  {
   "cell_type": "markdown",
   "metadata": {
    "id": "f037ac2b"
   },
   "source": [
    "![](https://drive.google.com/uc?export=view&id=1F5XlzBOOTMsedpsYqz6NnXjIPTDe6jpx)"
   ]
  },
  {
   "cell_type": "markdown",
   "metadata": {
    "id": "167fuYhB_nCP"
   },
   "source": [
    "2. Виведіть рядки даних з індексами з 615 по 619 включно."
   ]
  },
  {
   "cell_type": "code",
   "execution_count": null,
   "metadata": {
    "id": "ytZryG8Z_1f_"
   },
   "outputs": [],
   "source": []
  },
  {
   "cell_type": "markdown",
   "metadata": {
    "id": "uMLwIMBlhAcY"
   },
   "source": [
    "Очікуваний результат:"
   ]
  },
  {
   "cell_type": "markdown",
   "metadata": {
    "id": "yxrvqGnNhCsX"
   },
   "source": [
    "![](https://drive.google.com/uc?export=view&id=1Otufe_TXRmjZxWigzBiVBLCAVUfEReXM)"
   ]
  },
  {
   "cell_type": "markdown",
   "metadata": {
    "id": "2d54e0e4"
   },
   "source": [
    "3. Виведіть назви колонок у наборі даних разом з їхніми типами. Це можна зробити кількома способами, важливо аби в результаті були назви колонок і відповідні їм типи."
   ]
  },
  {
   "cell_type": "code",
   "execution_count": null,
   "metadata": {
    "ExecuteTime": {
     "end_time": "2021-12-08T18:46:42.609601Z",
     "start_time": "2021-12-08T18:46:42.604424Z"
    },
    "id": "513f5a99"
   },
   "outputs": [],
   "source": []
  },
  {
   "cell_type": "markdown",
   "metadata": {
    "ExecuteTime": {
     "end_time": "2022-11-01T16:50:46.961201Z",
     "start_time": "2022-11-01T16:50:46.955894Z"
    },
    "id": "3c380f93"
   },
   "source": [
    "Очікуваний результат (один з можливих форматів):"
   ]
  },
  {
   "cell_type": "markdown",
   "metadata": {
    "id": "28f7beff"
   },
   "source": [
    "![](https://drive.google.com/uc?export=view&id=1ASh6-S-_f3X9fTQAPIvnHMFZamTBjNkL)"
   ]
  },
  {
   "cell_type": "markdown",
   "metadata": {
    "id": "aX2LEmuG8xyA"
   },
   "source": [
    "4. Користуючись методом `DataFrame.describe()` виявіть 1, 25, 50, 75 і 99 персентилі колонки `gross income`. Знайдіть, яке значення відповідає 75отму персентилю цієї колонки і що це означає? Як би Ви його пояснили простими словами колегам? Відповідь напишіть текстом в окремій клітинці типу Markdown."
   ]
  },
  {
   "cell_type": "code",
   "execution_count": null,
   "metadata": {
    "id": "Paso6rPV894s"
   },
   "outputs": [],
   "source": []
  },
  {
   "cell_type": "markdown",
   "metadata": {
    "id": "HX-oXoo4jCuE"
   },
   "source": [
    "Очікуваний результат:"
   ]
  },
  {
   "cell_type": "markdown",
   "metadata": {
    "id": "Qi9Qi8LhjFRw"
   },
   "source": [
    "![](https://drive.google.com/uc?export=view&id=1bDa1YFUWDsPm78Lnpy2geQND8M1HEQiT)"
   ]
  },
  {
   "cell_type": "markdown",
   "metadata": {
    "id": "X2FWqJYr9Eul"
   },
   "source": [
    "5. Виведіть кількість інвойсів за кожним унікальним містом в наборі даних.\n",
    "\n",
    "  Підказка: інвойс - це один рядок в цьому наборі даних, ми можемо цим скористатись аби швидко отримати відповідь."
   ]
  },
  {
   "cell_type": "code",
   "execution_count": null,
   "metadata": {
    "id": "StVtKfWY-13y"
   },
   "outputs": [],
   "source": []
  },
  {
   "cell_type": "markdown",
   "metadata": {
    "id": "MxdJBddujhRx"
   },
   "source": [
    "Очікуваний результат:"
   ]
  },
  {
   "cell_type": "markdown",
   "metadata": {
    "id": "DGmeHKZYjoTp"
   },
   "source": [
    "![](https://drive.google.com/uc?export=view&id=1G8c6M875NOW7oU3OtZegTOnyD2y8lhAV)"
   ]
  },
  {
   "cell_type": "markdown",
   "metadata": {
    "id": "-k-yG_rR-3Og"
   },
   "source": [
    "6. Виведіть, який відсоток інвойсів припадає на кожне унікальне місто."
   ]
  },
  {
   "cell_type": "code",
   "execution_count": null,
   "metadata": {
    "id": "_PBLxP7B_LdF"
   },
   "outputs": [],
   "source": []
  },
  {
   "cell_type": "markdown",
   "metadata": {
    "id": "hk_BB1Uxj_G5"
   },
   "source": [
    "Очікуваний результат:"
   ]
  },
  {
   "cell_type": "markdown",
   "metadata": {
    "id": "vAQ3z60ukBVG"
   },
   "source": [
    "![](https://drive.google.com/uc?export=view&id=1yZZpWhL2y8DX9rSRioYCRh1VbJgcf3fY)"
   ]
  },
  {
   "cell_type": "markdown",
   "metadata": {
    "id": "RUkVnzp_B5uZ"
   },
   "source": [
    "7.1. Використовуючи фільтрацію даних, знайдіть середнє значення `gross income` для міст `Yangon` та `Mandalay`. В якому місті воно більше?\n",
    "\n",
    "7.2 Сформулюйте 3 гіпотези, чому в одному місті gross income вище, як можна дізнатись чи правдива ця гіпотеза з використанням даних (наявних і додаткових), та як висновки з цих гіпотез можна використати для прийняття рішень як підвищити прибуток в мережі супермаркетів. Відповідь напишіть текстом в окремій клітинці типу Markdown.\n",
    "\n",
    "Це завдання - на продуктове мислення. Якщо не знаєте, які гіпотези сформулювати - напишіть ті, які здаються вам зовсім примітивними. Важливо навчитись висловлювати свої гіпотези щодо даних, і з часом та досвідом вони будуть ставати щоразу глибше і точніше. Весь аналіз даних будується на тому, що ми перевіряємо певні гіпотези та робимо висновки і рекоемндації на основі своїх досліджень."
   ]
  },
  {
   "cell_type": "code",
   "execution_count": null,
   "metadata": {
    "id": "8RwoGA7l_OhV"
   },
   "outputs": [],
   "source": []
  },
  {
   "cell_type": "markdown",
   "metadata": {
    "id": "iXq3ODp1khy1"
   },
   "source": [
    "Очікуваний результат:"
   ]
  },
  {
   "cell_type": "markdown",
   "metadata": {
    "id": "4lcu3YwqkkF8"
   },
   "source": [
    "![](https://drive.google.com/uc?export=view&id=1JdXUmK46WcoXUJYP7NS2SJlr2XjBbpQ8)"
   ]
  },
  {
   "cell_type": "markdown",
   "metadata": {
    "id": "wNMcnnPQOrwb"
   },
   "source": [
    "8. Для продовження дослідження різниці у прибутках в магазинах давайте зʼясуємо, чи відрізняється маржа ('gross margin percentage') для різних інвойсів в магазині? Перевірте це програмно на даних виходячи з того функціоналу, який ми вже пройшли у лекціях.\n",
    "\n",
    "Дайте на основі отриманого результату відповідь: \"У всіх всіх інвойсах однакова маржа\" або \"Маржа відрізняється для різних інвойсів\"."
   ]
  },
  {
   "cell_type": "code",
   "execution_count": null,
   "metadata": {
    "id": "mTWYzSVaPNsb"
   },
   "outputs": [],
   "source": []
  },
  {
   "cell_type": "markdown",
   "metadata": {
    "id": "YXlTdvOtnYPr"
   },
   "source": [
    "Очікуваний результат: відповідь щодо маржі в усіх інвойсах на основі отриманих результатів"
   ]
  },
  {
   "cell_type": "markdown",
   "metadata": {
    "id": "NF3oAHQOOSN5"
   },
   "source": [
    "9. Врахуовуючи висновок в попередньому завданні, дослідимо як продаються в цих містах різні категорії товарів. Виведіть відсотковий розпоіділ кількості інвойсів по категоріям товарів `Product line` в містах `Yangon` та `Mandalay`."
   ]
  },
  {
   "cell_type": "code",
   "execution_count": null,
   "metadata": {
    "id": "nUgdZmbzQDo4"
   },
   "outputs": [],
   "source": []
  },
  {
   "cell_type": "markdown",
   "metadata": {
    "id": "vFhFKSl7meGY"
   },
   "source": [
    "Очікуваний результат для кожного з міст:"
   ]
  },
  {
   "cell_type": "markdown",
   "metadata": {
    "id": "pzpOAqu1miuo"
   },
   "source": [
    "![](https://drive.google.com/uc?export=view&id=1IbG58YK5KVqC-wCnllF1btgEgfWTbi_O)"
   ]
  },
  {
   "cell_type": "markdown",
   "metadata": {
    "id": "imwzMiV4mrXn"
   },
   "source": [
    "![](https://drive.google.com/uc?export=view&id=1aKOkLmlMq1sOh4GbwyaQyjfhNJzdU4Yh)"
   ]
  }
 ],
 "metadata": {
  "colab": {
   "provenance": []
  },
  "kernelspec": {
   "display_name": "Python [conda env:base] *",
   "language": "python",
   "name": "conda-base-py"
  },
  "language_info": {
   "codemirror_mode": {
    "name": "ipython",
    "version": 3
   },
   "file_extension": ".py",
   "mimetype": "text/x-python",
   "name": "python",
   "nbconvert_exporter": "python",
   "pygments_lexer": "ipython3",
   "version": "3.12.7"
  }
 },
 "nbformat": 4,
 "nbformat_minor": 4
}
