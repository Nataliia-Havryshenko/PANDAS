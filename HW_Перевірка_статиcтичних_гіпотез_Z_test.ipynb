{
  "cells": [
    {
      "cell_type": "markdown",
      "id": "e152f6d6",
      "metadata": {
        "ExecuteTime": {
          "end_time": "2022-12-10T14:29:24.703416Z",
          "start_time": "2022-12-10T14:29:24.688485Z"
        },
        "id": "e152f6d6"
      },
      "source": [
        "#Перевірка статиcтичних гіпотез. Z-test.\n",
        "\n"
      ]
    },
    {
      "cell_type": "markdown",
      "id": "cd404683",
      "metadata": {
        "id": "cd404683"
      },
      "source": [
        "0. Зчитайте дані з `data.csv` у змінну data, яка має тип pandas.DataFrame. Ми будемо далі працювати з цією змінною."
      ]
    },
    {
      "cell_type": "code",
      "execution_count": 2,
      "id": "5adc9800",
      "metadata": {},
      "outputs": [],
      "source": [
        "import pandas as pd\n",
        "\n",
        "data = pd.read_csv(r\"D:\\моё обучение аналитика\\аналітика даних\\М15\\statistical_hypothesis\\data.csv\")\n"
      ]
    },
    {
      "cell_type": "markdown",
      "id": "3d06cbbf",
      "metadata": {
        "id": "3d06cbbf"
      },
      "source": [
        "Запустіть код нижче. Для коректної робити всіх подальших методів дані мають бути у вигляді одновимірного `numpy.ndarray` вектора та мати розмірність (100,). Така розмірність означає, що дані - одновимірні (колонка), якщо б розмірність була (100, 1), то дані сприймаються методами як двовимірні (таблиця), хоча для нас виглядати можуть так само."
      ]
    },
    {
      "cell_type": "code",
      "execution_count": 3,
      "id": "cce1632b",
      "metadata": {
        "colab": {
          "base_uri": "https://localhost:8080/"
        },
        "id": "cce1632b",
        "outputId": "2e142439-2a4f-4057-ff9d-e6a4b3d7e955"
      },
      "outputs": [
        {
          "data": {
            "text/plain": [
              "(100,)"
            ]
          },
          "execution_count": 3,
          "metadata": {},
          "output_type": "execute_result"
        }
      ],
      "source": [
        "data = data.data.values\n",
        "data.shape"
      ]
    },
    {
      "cell_type": "markdown",
      "id": "abdcef5d",
      "metadata": {
        "id": "abdcef5d"
      },
      "source": [
        "**Завдання 1**. Зчитані дані - це сума покупок в доларах наших покупців на сайті протягом липня 2025 року.\n",
        "\n",
        "До цього місяця, ми мали продажі в середньому на чек $20.\n",
        "\n",
        "Необхідно зʼясувати, чи вийшло у нас статистично значущо **підвищити** середній чек за липень 2025?\n",
        "\n",
        "Аби дати відповідь - ми проведемо z-test на рівні значущості $\\alpha=0.05$ двома способами. В цьому завданні ми будемо виконувати обчислення \"вручну\" з використанням бібліотек numpy та scipy.stats подібно до прикладу в лекції. Для цього виконайте наступні 7 кроків. Правильне виконання кожного з кроків оцінюється в 1 бал.\n",
        "\n",
        "1. Запишіть параметри задачі у змінні Python:\n",
        "    - `sample_mean` - $\\bar{x}$, середнє значення в вибірці\n",
        "    - `population_mean` - $\\mu_0$, середнє значення в популяції (тобто те, з яким ми порівнюємо середнє вибіркове значення)\n",
        "    - `population_std` - $\\sigma$, вибіркове стандартне відхилення, яке ми вважаємо, що є рівним ст. відх. популяції, адже маємо достатньо велику вибірку.\n",
        "    - `sample_size` - $n$, розмір вибірки\n",
        "    - `alpha` - $\\alpha$ рівень значущості\n",
        "    \n",
        "    **Увага!** Для обчислення стандартного відхилення маємо скористатись функцією `np.std(your_dataframe, ddof=1)`. Чому так - розбираємо в лекції про t-test.\n",
        "\n",
        "\n",
        "2. Визначте для цієї задачі:\n",
        "    - якою є гіпотеза $H_0$\n",
        "    - якою є альтернативна гіпотеза $H_a$\n",
        "    - з яким типом тесту ми маємо справу - лівосторонній, правосторонній чи двосторонній.\n",
        "\n",
        "3. Обчисліть стандартну помилку SE.\n",
        "4. Розрахуйте z-статистику.\n",
        "5. Знайдіть критичне z-значення з допомогою бібліотеки stats.\n",
        "6. Обчисліть p-value з допомогою бібліотеки stats.\n",
        "7. Прийміть рішення, чи відхиляєте ви гіпотезу $H_0$. Для прийняття рішення зробіть і порівняння z-статистики з критичним значенням, і проаналізуйте p-value."
      ]
    },
    {
      "cell_type": "code",
      "execution_count": 4,
      "id": "7eb2f297",
      "metadata": {},
      "outputs": [
        {
          "name": "stdout",
          "output_type": "stream",
          "text": [
            "Requirement already satisfied: scipy in c:\\users\\admin\\appdata\\local\\programs\\python\\python313\\lib\\site-packages (1.16.2)\n",
            "Requirement already satisfied: numpy<2.6,>=1.25.2 in c:\\users\\admin\\appdata\\local\\programs\\python\\python313\\lib\\site-packages (from scipy) (2.3.0)\n",
            "Note: you may need to restart the kernel to use updated packages.\n"
          ]
        },
        {
          "name": "stderr",
          "output_type": "stream",
          "text": [
            "\n",
            "[notice] A new release of pip is available: 25.1.1 -> 25.2\n",
            "[notice] To update, run: python.exe -m pip install --upgrade pip\n"
          ]
        }
      ],
      "source": [
        "pip install scipy"
      ]
    },
    {
      "cell_type": "code",
      "execution_count": 5,
      "id": "NX2XezWLdf4t",
      "metadata": {
        "id": "NX2XezWLdf4t"
      },
      "outputs": [
        {
          "name": "stdout",
          "output_type": "stream",
          "text": [
            "Середнє вибірки: 19.37755319670441\n",
            "Стандартне відхилення: 6.25356123240434\n",
            "Розмір вибірки: 100\n",
            "Стандартна помилка SE: 0.625356123240434\n",
            "Z-статистика: -0.995347738933505\n",
            "Критичне z-значення: 1.6448536269514722\n",
            "p-value: 0.8402164165464012\n",
            "Z-статистика <= критичного значення → не відхиляємо H0\n",
            "p-value >= α → не відхиляємо H0\n"
          ]
        }
      ],
      "source": [
        "import numpy as np\n",
        "from scipy import stats\n",
        "\n",
        "# Припустимо, що data вже має вигляд (100,)\n",
        "sample = data\n",
        "\n",
        "# -----------------------------\n",
        "# Крок 1. Параметри задачі\n",
        "# -----------------------------\n",
        "sample_mean = np.mean(sample)               # середнє вибірки\n",
        "population_mean = 20                        # середнє до липня\n",
        "population_std = np.std(sample, ddof=1)    # стандартне відхилення вибірки\n",
        "sample_size = len(sample)                   # розмір вибірки\n",
        "alpha = 0.05                                # рівень значущості\n",
        "\n",
        "print(\"Середнє вибірки:\", sample_mean)\n",
        "print(\"Стандартне відхилення:\", population_std)\n",
        "print(\"Розмір вибірки:\", sample_size)\n",
        "\n",
        "# -----------------------------\n",
        "# Крок 2. Гіпотези та тип тесту\n",
        "# -----------------------------\n",
        "# H0: середній чек = 20\n",
        "# Ha: середній чек > 20 (правосторонній тест)\n",
        "\n",
        "# -----------------------------\n",
        "# Крок 3. Стандартна помилка SE\n",
        "# -----------------------------\n",
        "SE = population_std / np.sqrt(sample_size)\n",
        "print(\"Стандартна помилка SE:\", SE)\n",
        "\n",
        "# -----------------------------\n",
        "# Крок 4. Z-статистика\n",
        "# -----------------------------\n",
        "z_stat = (sample_mean - population_mean) / SE\n",
        "print(\"Z-статистика:\", z_stat)\n",
        "\n",
        "# -----------------------------\n",
        "# Крок 5. Критичне z-значення\n",
        "# -----------------------------\n",
        "z_critical = stats.norm.ppf(1 - alpha)  # для правостороннього тесту\n",
        "print(\"Критичне z-значення:\", z_critical)\n",
        "\n",
        "# -----------------------------\n",
        "# Крок 6. p-value\n",
        "# -----------------------------\n",
        "p_value = 1 - stats.norm.cdf(z_stat)\n",
        "print(\"p-value:\", p_value)\n",
        "\n",
        "# -----------------------------\n",
        "# Крок 7. Приймаємо рішення\n",
        "# -----------------------------\n",
        "if z_stat > z_critical:\n",
        "    print(\"Z-статистика > критичного значення → відхиляємо H0\")\n",
        "else:\n",
        "    print(\"Z-статистика <= критичного значення → не відхиляємо H0\")\n",
        "\n",
        "if p_value < alpha:\n",
        "    print(\"p-value < α → відхиляємо H0\")\n",
        "else:\n",
        "    print(\"p-value >= α → не відхиляємо H0\")"
      ]
    },
    {
      "cell_type": "markdown",
      "id": "0FOBByRMXkL2",
      "metadata": {
        "id": "0FOBByRMXkL2"
      },
      "source": [
        "**Завдання 2.** Виконайте обчислення z-test з використанням бібліотеки statsmodels.\n",
        "\n",
        "Отримайте z-статистику та р-значення.\n",
        "\n",
        "Виведіть p-значення та зробіть висновок, чи ми маємо достатньо доказів, аби стверджувати, що середній чек зріс.\n",
        "\n",
        "Чи зійшлись значення z-статистику та р-значення в цьому завданні з попередніми обчисленнями?\n",
        "\n",
        "Завдання оцінюється в 3 бали."
      ]
    },
    {
      "cell_type": "code",
      "execution_count": 6,
      "id": "8b9b87c7",
      "metadata": {},
      "outputs": [
        {
          "name": "stdout",
          "output_type": "stream",
          "text": [
            "Requirement already satisfied: statsmodels in c:\\users\\admin\\appdata\\local\\programs\\python\\python313\\lib\\site-packages (0.14.5)\n",
            "Requirement already satisfied: numpy<3,>=1.22.3 in c:\\users\\admin\\appdata\\local\\programs\\python\\python313\\lib\\site-packages (from statsmodels) (2.3.0)\n",
            "Requirement already satisfied: scipy!=1.9.2,>=1.8 in c:\\users\\admin\\appdata\\local\\programs\\python\\python313\\lib\\site-packages (from statsmodels) (1.16.2)\n",
            "Requirement already satisfied: pandas!=2.1.0,>=1.4 in c:\\users\\admin\\appdata\\local\\programs\\python\\python313\\lib\\site-packages (from statsmodels) (2.3.0)\n",
            "Requirement already satisfied: patsy>=0.5.6 in c:\\users\\admin\\appdata\\local\\programs\\python\\python313\\lib\\site-packages (from statsmodels) (1.0.1)\n",
            "Requirement already satisfied: packaging>=21.3 in c:\\users\\admin\\appdata\\local\\programs\\python\\python313\\lib\\site-packages (from statsmodels) (25.0)\n",
            "Requirement already satisfied: python-dateutil>=2.8.2 in c:\\users\\admin\\appdata\\local\\programs\\python\\python313\\lib\\site-packages (from pandas!=2.1.0,>=1.4->statsmodels) (2.9.0.post0)\n",
            "Requirement already satisfied: pytz>=2020.1 in c:\\users\\admin\\appdata\\local\\programs\\python\\python313\\lib\\site-packages (from pandas!=2.1.0,>=1.4->statsmodels) (2025.2)\n",
            "Requirement already satisfied: tzdata>=2022.7 in c:\\users\\admin\\appdata\\local\\programs\\python\\python313\\lib\\site-packages (from pandas!=2.1.0,>=1.4->statsmodels) (2025.2)\n",
            "Requirement already satisfied: six>=1.5 in c:\\users\\admin\\appdata\\local\\programs\\python\\python313\\lib\\site-packages (from python-dateutil>=2.8.2->pandas!=2.1.0,>=1.4->statsmodels) (1.17.0)\n",
            "Note: you may need to restart the kernel to use updated packages.\n"
          ]
        },
        {
          "name": "stderr",
          "output_type": "stream",
          "text": [
            "\n",
            "[notice] A new release of pip is available: 25.1.1 -> 25.2\n",
            "[notice] To update, run: python.exe -m pip install --upgrade pip\n"
          ]
        }
      ],
      "source": [
        "pip install statsmodels"
      ]
    },
    {
      "cell_type": "code",
      "execution_count": 7,
      "id": "f_Oa0DJhdg6v",
      "metadata": {
        "id": "f_Oa0DJhdg6v"
      },
      "outputs": [
        {
          "name": "stdout",
          "output_type": "stream",
          "text": [
            "Z-статистика: -0.9953477389335053\n",
            "p-value: 0.8402164165464012\n",
            "p-value >= α → не відхиляємо H0, недостатньо доказів для підвищення середнього чеку\n"
          ]
        }
      ],
      "source": [
        "import statsmodels.stats.weightstats as sm\n",
        "\n",
        "# Вибірка\n",
        "sample = data\n",
        "\n",
        "# Параметри\n",
        "population_mean = 20  # середній чек до липня\n",
        "\n",
        "# Виконуємо одновибірковий z-test\n",
        "z_stat, p_value = sm.ztest(sample, value=population_mean, alternative='larger')\n",
        "\n",
        "print(\"Z-статистика:\", z_stat)\n",
        "print(\"p-value:\", p_value)\n",
        "\n",
        "# Висновок\n",
        "alpha = 0.05\n",
        "if p_value < alpha:\n",
        "    print(\"p-value < α → відхиляємо H0, середній чек статистично значимо зріс\")\n",
        "else:\n",
        "    print(\"p-value >= α → не відхиляємо H0, недостатньо доказів для підвищення середнього чеку\")\n"
      ]
    }
  ],
  "metadata": {
    "colab": {
      "provenance": []
    },
    "hide_input": false,
    "kernelspec": {
      "display_name": "Python 3",
      "language": "python",
      "name": "python3"
    },
    "language_info": {
      "codemirror_mode": {
        "name": "ipython",
        "version": 3
      },
      "file_extension": ".py",
      "mimetype": "text/x-python",
      "name": "python",
      "nbconvert_exporter": "python",
      "pygments_lexer": "ipython3",
      "version": "3.13.4"
    },
    "toc": {
      "base_numbering": 1,
      "nav_menu": {},
      "number_sections": true,
      "sideBar": true,
      "skip_h1_title": false,
      "title_cell": "Table of Contents",
      "title_sidebar": "Contents",
      "toc_cell": false,
      "toc_position": {},
      "toc_section_display": true,
      "toc_window_display": false
    },
    "varInspector": {
      "cols": {
        "lenName": 16,
        "lenType": 16,
        "lenVar": 40
      },
      "kernels_config": {
        "python": {
          "delete_cmd_postfix": "",
          "delete_cmd_prefix": "del ",
          "library": "var_list.py",
          "varRefreshCmd": "print(var_dic_list())"
        },
        "r": {
          "delete_cmd_postfix": ") ",
          "delete_cmd_prefix": "rm(",
          "library": "var_list.r",
          "varRefreshCmd": "cat(var_dic_list()) "
        }
      },
      "types_to_exclude": [
        "module",
        "function",
        "builtin_function_or_method",
        "instance",
        "_Feature"
      ],
      "window_display": false
    }
  },
  "nbformat": 4,
  "nbformat_minor": 5
}
