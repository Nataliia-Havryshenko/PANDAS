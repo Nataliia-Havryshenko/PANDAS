{
  "cells": [
    {
      "cell_type": "markdown",
      "id": "e152f6d6",
      "metadata": {
        "ExecuteTime": {
          "end_time": "2022-12-10T14:29:24.703416Z",
          "start_time": "2022-12-10T14:29:24.688485Z"
        },
        "id": "e152f6d6"
      },
      "source": [
        "# Тести для малих вибірок та пропорцій\n",
        "\n"
      ]
    },
    {
      "cell_type": "markdown",
      "id": "abdcef5d",
      "metadata": {
        "id": "abdcef5d"
      },
      "source": [
        "**Завдання 1**. E-commerce компанія після редизайну сайту підозрює, що **середній час до покупки (time-to-purchase)** користувачів **збільшився**.\n",
        "Історично середній час від першого заходу на сайт до покупки становив $\\mu_0 = 123.7$ хвилин.\n",
        "\n",
        "Команда аналітиків випадково обрала дані **7 покупців після редизайну**:\n",
        "`128, 135, 121, 142, 126, 151, 123`\n",
        "\n",
        "З допомогою наявних даних зʼясуйте, чи збільшився середній час покупки після редизайну.\n",
        "\n",
        "Для цього виконайте наступні 6 кроків. Правильне виконання кожного з кроків оцінюється в 1 бал.\n",
        "\n",
        "1. Запишіть нульову та альтернативну гіпотези і визначте тип тесту.\n",
        "2. Обчисліть вибіркові статистики: $\\bar x$, $s$, $n$.\n",
        "3. Оберіть тип тесту та виконайте його (знайдіть критичне значення тесту, статистику тесту та р-значення) будь-яким пасуючим способом, щоб перевірити гіпотезу на рівні значущості $\\alpha = 0.10$.\n",
        "4. Прийміть рішення, чи відхиляєте ви гіпотезу $H_0$ використовуючи p-value.\n",
        "5. Напишіть висновок: чи справді редизайн сайту подовжив час до покупки?\n",
        "6. Чи зміниться ваше рішення при зміні рівня значущості на $\\alpha = 0.05$.\n"
      ]
    },
    {
      "cell_type": "code",
      "execution_count": 7,
      "id": "BcS4cm11QYpT",
      "metadata": {
        "id": "BcS4cm11QYpT"
      },
      "outputs": [
        {
          "name": "stdout",
          "output_type": "stream",
          "text": [
            "Гіпотези\n",
            "H0 = 123.7\n",
            "H1 > 123.7\n",
            "Тип правосторонній t-тест\n"
          ]
        }
      ],
      "source": [
        "print('Гіпотези')\n",
        "print('H0 = 123.7')\n",
        "print('H1 > 123.7')\n",
        "print('Тип правосторонній t-тест')"
      ]
    },
    {
      "cell_type": "code",
      "execution_count": 8,
      "id": "28d1e728",
      "metadata": {},
      "outputs": [
        {
          "name": "stdout",
          "output_type": "stream",
          "text": [
            "Середнє вибірки: 132.28571428571428\n",
            "Стандартне відхилення вибірки: 10.980502200328935\n",
            "Розмір вибірки: 7\n"
          ]
        }
      ],
      "source": [
        "import numpy as np\n",
        "\n",
        "# Вибірка\n",
        "data = np.array([128, 135, 121, 142, 126, 151, 123])\n",
        "\n",
        "# Розрахунок статистик\n",
        "sample_mean = np.mean(data)\n",
        "sample_std = np.std(data, ddof=1)  # ddof=1 для вибіркового стандартного відхилення\n",
        "sample_size = len(data)\n",
        "\n",
        "print(\"Середнє вибірки:\", sample_mean)\n",
        "print(\"Стандартне відхилення вибірки:\", sample_std)\n",
        "print(\"Розмір вибірки:\", sample_size)"
      ]
    },
    {
      "cell_type": "code",
      "execution_count": 9,
      "id": "afdc38c8",
      "metadata": {},
      "outputs": [
        {
          "name": "stdout",
          "output_type": "stream",
          "text": [
            "t-статистика: 2.0687273144186475\n",
            "Критичне t-значення: 1.4397557472577693\n",
            "p-value: 0.042017654253682646\n"
          ]
        }
      ],
      "source": [
        "from scipy import stats\n",
        "\n",
        "mu0 = 123.7\n",
        "alpha = 0.10\n",
        "\n",
        "# t-статистика\n",
        "t_stat = (sample_mean - mu0) / (sample_std / np.sqrt(sample_size))\n",
        "\n",
        "# Критичне t-значення\n",
        "t_critical = stats.t.ppf(1 - alpha, df=sample_size - 1)\n",
        "\n",
        "# p-value (правосторонній тест)\n",
        "p_value = 1 - stats.t.cdf(t_stat, df=sample_size - 1)\n",
        "\n",
        "print(\"t-статистика:\", t_stat)\n",
        "print(\"Критичне t-значення:\", t_critical)\n",
        "print(\"p-value:\", p_value)"
      ]
    },
    {
      "cell_type": "code",
      "execution_count": 10,
      "id": "e67b6f94",
      "metadata": {},
      "outputs": [
        {
          "name": "stdout",
          "output_type": "stream",
          "text": [
            "t > t_critical → відхиляємо H0\n",
            "p-value < α → відхиляємо H0\n"
          ]
        }
      ],
      "source": [
        "if t_stat > t_critical:\n",
        "    print(\"t > t_critical → відхиляємо H0\")\n",
        "else:\n",
        "    print(\"t <= t_critical → не відхиляємо H0\")\n",
        "\n",
        "if p_value < alpha:\n",
        "    print(\"p-value < α → відхиляємо H0\")\n",
        "else:\n",
        "    print(\"p-value >= α → не відхиляємо H0\")"
      ]
    },
    {
      "cell_type": "markdown",
      "id": "7c413fa6",
      "metadata": {},
      "source": [
        "t > t_critical → відхиляємо H0\n",
        "p-value < α → відхиляємо H0\n",
        "це означає, що є достатньо статистичних доказів, щоб стверджувати, що редизайн сайту збільшив середній час до покупки."
      ]
    },
    {
      "cell_type": "code",
      "execution_count": 12,
      "id": "472c0d0b",
      "metadata": {},
      "outputs": [
        {
          "name": "stdout",
          "output_type": "stream",
          "text": [
            "t-статистика: 2.0687273144186475\n",
            "Критичне t-значення: 1.9431802805153018\n",
            "p-value: 0.042017654253682646\n",
            "t > t_critical → відхиляємо H0\n",
            "p-value < α → відхиляємо H0\n"
          ]
        }
      ],
      "source": [
        "from scipy import stats\n",
        "\n",
        "mu0 = 123.7\n",
        "alpha = 0.05\n",
        "\n",
        "# t-статистика\n",
        "t_stat = (sample_mean - mu0) / (sample_std / np.sqrt(sample_size))\n",
        "\n",
        "# Критичне t-значення\n",
        "t_critical = stats.t.ppf(1 - alpha, df=sample_size - 1)\n",
        "\n",
        "# p-value (правосторонній тест)\n",
        "p_value = 1 - stats.t.cdf(t_stat, df=sample_size - 1)\n",
        "\n",
        "print(\"t-статистика:\", t_stat)\n",
        "print(\"Критичне t-значення:\", t_critical)\n",
        "print(\"p-value:\", p_value)\n",
        "\n",
        "if t_stat > t_critical:\n",
        "    print(\"t > t_critical → відхиляємо H0\")\n",
        "else:\n",
        "    print(\"t <= t_critical → не відхиляємо H0\")\n",
        "\n",
        "if p_value < alpha:\n",
        "    print(\"p-value < α → відхиляємо H0\")\n",
        "else:\n",
        "    print(\"p-value >= α → не відхиляємо H0\")"
      ]
    },
    {
      "cell_type": "markdown",
      "id": "8167195b",
      "metadata": {},
      "source": [
        "При зниженні рівня значущості до α = 0.05 є достатньо доказів, щоб стверджувати, що середній час до покупки після редизайну збільшився, тобто рішення не змінилося порівняно з α = 0.10 — редизайн справді подовжив час до покупки."
      ]
    },
    {
      "cell_type": "markdown",
      "id": "5govLcx8FPSl",
      "metadata": {
        "id": "5govLcx8FPSl"
      },
      "source": [
        "**Завдання 2.**\n",
        "\n",
        "До спеціальної рекламної кампанії **23%** дорослих упізнавали логотип компанії. Після завершення кампанії відділ маркетингу провів опитування: з **1200** випадково відібраних дорослих **311** упізнали логотип.\n",
        "\n",
        "Перевірте на рівні значущості **3%** ($\\alpha=0.03$), чи дають ці дані достатні підстави стверджувати, що **тепер більше ніж 23%** дорослих упізнають логотип компанії. Для розвʼязку використовуйте бібліотеку `statsmodels`.\n",
        "\n",
        "Зробіть висновок, чи зросла впізнаваність логотипу.\n",
        "\n",
        "Додатково, обчисліть довірчий інтревал на заданому рівні значущості і проінтерпретуйте текстом - як він додатково пояснює прийняте нами рішення?"
      ]
    },
    {
      "cell_type": "code",
      "execution_count": 13,
      "id": "rcplRfotId51",
      "metadata": {
        "id": "rcplRfotId51"
      },
      "outputs": [
        {
          "name": "stdout",
          "output_type": "stream",
          "text": [
            "Вибіркова пропорція: 0.25916666666666666\n"
          ]
        }
      ],
      "source": [
        "import statsmodels.api as sm\n",
        "\n",
        "# Дані\n",
        "n = 1200\n",
        "x = 311\n",
        "p0 = 0.23\n",
        "alpha = 0.03\n",
        "\n",
        "# Вибіркова пропорція\n",
        "p_hat = x / n\n",
        "print(\"Вибіркова пропорція:\", p_hat)"
      ]
    },
    {
      "cell_type": "code",
      "execution_count": 15,
      "id": "fbac9afb",
      "metadata": {},
      "outputs": [
        {
          "name": "stdout",
          "output_type": "stream",
          "text": [
            "Z-статистика: 2.3058316305222895\n",
            "p-value: 0.010560021039195299\n",
            "p-value < α → відхиляємо H0, пропорція збільшилась\n",
            "97.0% довірчий інтервал для пропорції: (0.232, 0.287)\n"
          ]
        }
      ],
      "source": [
        "from statsmodels.stats.proportion import proportions_ztest, proportion_confint\n",
        "\n",
        "# Дані\n",
        "n = 1200\n",
        "x = 311\n",
        "p0 = 0.23\n",
        "alpha = 0.03\n",
        "\n",
        "# Z-тест\n",
        "z_stat, p_value = proportions_ztest(count=x, nobs=n, value=p0, alternative='larger')\n",
        "print(\"Z-статистика:\", z_stat)\n",
        "print(\"p-value:\", p_value)\n",
        "\n",
        "# Висновок\n",
        "if p_value < alpha:\n",
        "    print(\"p-value < α → відхиляємо H0, пропорція збільшилась\")\n",
        "else:\n",
        "    print(\"p-value >= α → не відхиляємо H0, недостатньо доказів\")\n",
        "\n",
        "# Довірчий інтервал\n",
        "ci_low, ci_upp = proportion_confint(count=x, nobs=n, alpha=alpha, method='normal')\n",
        "print(f\"{(1-alpha)*100}% довірчий інтервал для пропорції: ({ci_low:.3f}, {ci_upp:.3f})\")"
      ]
    },
    {
      "cell_type": "markdown",
      "id": "7a78403c",
      "metadata": {},
      "source": [
        "Це означає, що з імовірністю 97% справжня частка лежить у межах від 23.2% до 28.7%. Нижня межа майже дорівнює 23%, що в двосторонньому тесті не дозволило нам відхилити Н0, але при односторонньому ми оцінюємо це як значущість\n"
      ]
    }
  ],
  "metadata": {
    "colab": {
      "provenance": []
    },
    "hide_input": false,
    "kernelspec": {
      "display_name": "Python 3",
      "language": "python",
      "name": "python3"
    },
    "language_info": {
      "codemirror_mode": {
        "name": "ipython",
        "version": 3
      },
      "file_extension": ".py",
      "mimetype": "text/x-python",
      "name": "python",
      "nbconvert_exporter": "python",
      "pygments_lexer": "ipython3",
      "version": "3.13.4"
    },
    "toc": {
      "base_numbering": 1,
      "nav_menu": {},
      "number_sections": true,
      "sideBar": true,
      "skip_h1_title": false,
      "title_cell": "Table of Contents",
      "title_sidebar": "Contents",
      "toc_cell": false,
      "toc_position": {},
      "toc_section_display": true,
      "toc_window_display": false
    },
    "varInspector": {
      "cols": {
        "lenName": 16,
        "lenType": 16,
        "lenVar": 40
      },
      "kernels_config": {
        "python": {
          "delete_cmd_postfix": "",
          "delete_cmd_prefix": "del ",
          "library": "var_list.py",
          "varRefreshCmd": "print(var_dic_list())"
        },
        "r": {
          "delete_cmd_postfix": ") ",
          "delete_cmd_prefix": "rm(",
          "library": "var_list.r",
          "varRefreshCmd": "cat(var_dic_list()) "
        }
      },
      "types_to_exclude": [
        "module",
        "function",
        "builtin_function_or_method",
        "instance",
        "_Feature"
      ],
      "window_display": false
    }
  },
  "nbformat": 4,
  "nbformat_minor": 5
}
